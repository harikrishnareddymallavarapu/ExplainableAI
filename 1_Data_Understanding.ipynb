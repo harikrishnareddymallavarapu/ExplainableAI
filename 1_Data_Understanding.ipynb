{
  "nbformat": 4,
  "nbformat_minor": 0,
  "metadata": {
    "colab": {
      "name": "1.Data Understanding.ipynb",
      "provenance": [],
      "authorship_tag": "ABX9TyPjBTw043bpkAq3pASEIwSS",
      "include_colab_link": true
    },
    "kernelspec": {
      "name": "python3",
      "display_name": "Python 3"
    },
    "language_info": {
      "name": "python"
    }
  },
  "cells": [
    {
      "cell_type": "markdown",
      "metadata": {
        "id": "view-in-github",
        "colab_type": "text"
      },
      "source": [
        "<a href=\"https://colab.research.google.com/github/harikrishnareddymallavarapu/ExplainableAI/blob/main/1_Data_Understanding.ipynb\" target=\"_parent\"><img src=\"https://colab.research.google.com/assets/colab-badge.svg\" alt=\"Open In Colab\"/></a>"
      ]
    },
    {
      "cell_type": "code",
      "metadata": {
        "id": "BuLnSMwEqs5T"
      },
      "source": [
        "from spacy.lang.en import English\n",
        "import pandas as pd\n",
        "import nltk"
      ],
      "execution_count": null,
      "outputs": []
    },
    {
      "cell_type": "code",
      "metadata": {
        "id": "u70kS9_hvjMt"
      },
      "source": [
        "#loading the dataset\n"
      ],
      "execution_count": null,
      "outputs": []
    }
  ]
}